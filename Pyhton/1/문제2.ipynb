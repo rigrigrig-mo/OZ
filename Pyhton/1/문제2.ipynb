{
 "cells": [
  {
   "cell_type": "markdown",
   "metadata": {},
   "source": [
    "<span style=\"font-size:100%\">\n",
    "\n",
    "수업은 모두 열심히 들으셨나요?\n",
    "\n",
    "간혹 강의에서 언급되지 않은 내용이 문제로 나올 수 있습니다.<br>\n",
    "그럴땐 강의 내용 외 문제는 구글링을 통해 해결해주세요<br></span>\n",
    "<span style=\"font-size:80%\">\n",
    "(구글링 또한 개발자가 갖쳐야할 역량 중에 하나랍니다 😊)\n",
    "</span>\n",
    "\n",
    "---"
   ]
  },
  {
   "cell_type": "markdown",
   "metadata": {},
   "source": [
    "<span style=\"font-size:80%\">[문제1]<br><br></span>\n",
    "```주로 작성 중인 코드의 끝을 알리는 기호로 사용되며 파이썬에서 한 줄에 작성된 서로 다른 코드를 구분 지을 때 사용할 수 있는 기호를 골라주세요```\n",
    "\n",
    "1. ' , ' (쉼표)\n",
    "2. ' + ' (더하기 기호)\n",
    "3. ' ; ' (세미콜론)\n",
    "4. ' / ' (슬래시)"
   ]
  },
  {
   "cell_type": "markdown",
   "metadata": {},
   "source": [
    "<span style=\"color:red\">답변</span> :"
   ]
  },
  {
   "cell_type": "markdown",
   "metadata": {},
   "source": [
    "3번 ;"
   ]
  },
  {
   "cell_type": "markdown",
   "metadata": {},
   "source": [
    "----"
   ]
  },
  {
   "cell_type": "markdown",
   "metadata": {},
   "source": [
    "<span style=\"font-size:80%\">[문제2]<br><br></span>\n",
    "```Python의 PEP 8은 무엇인지 설명하고 PEP 8의 핵심적인 규칙을 1개 이상을 설명해주세요```"
   ]
  },
  {
   "cell_type": "markdown",
   "metadata": {},
   "source": [
    "<span style=\"color:red\">답변</span>"
   ]
  },
  {
   "cell_type": "markdown",
   "metadata": {},
   "source": [
    "PEP 8은 Python Enhancement Proposal 8의 약자로, Python 코딩 스타일 가이드라인입니다. 이는 Python 개발자들이 코드를 작성할 때 지켜야 할 규칙들을 제시합니다. PEP 8은 Python의 품질과 일관성을 높이기 위해 만들어졌으며, 이를 따르면 코드의 가독성과 유지보수성이 향상됩니다.\n",
    "\n",
    "PEP 8의 핵심적인 규칙 중 하나는 '들여쓰기'입니다. Python에서는 들여쓰기를 할 때 4개의 스페이스를 사용하는 것이 권장됩니다. 함수의 시작 부분과 종료 부분에는 각각 2줄의 공백을 두어야 하며 클래스 내부의 메서드에는 공백 한 줄을 두어야 합니다."
   ]
  },
  {
   "cell_type": "markdown",
   "metadata": {},
   "source": [
    "----"
   ]
  },
  {
   "cell_type": "markdown",
   "metadata": {},
   "source": [
    "<span style=\"font-size:80%\">[문제3]<br><br></span>\n",
    "```Python에서 \"#\"이 의마하는 것은 무엇인지 설명해주세요```"
   ]
  },
  {
   "cell_type": "markdown",
   "metadata": {},
   "source": [
    "<span style=\"color:red\">답변</span>"
   ]
  },
  {
   "cell_type": "markdown",
   "metadata": {},
   "source": [
    "주석(Comment): 코드의 특정 부분에 대한 설명이나 메모를 추가하는 데 사용됩니다. 주석은 코드 실행에는 영향을 미치지 않으며, 개발자들이 코드를 이해하고 수정하는 데 도움을 줍니다."
   ]
  },
  {
   "cell_type": "markdown",
   "metadata": {},
   "source": [
    "----"
   ]
  },
  {
   "cell_type": "markdown",
   "metadata": {},
   "source": [
    "<span style=\"font-size:80%\">[문제4]<br><br></span>\n",
    "```Python의 들여쓰기 장점과 기능에 대해 설명해주세요```"
   ]
  },
  {
   "cell_type": "markdown",
   "metadata": {},
   "source": [
    "<span style=\"color:red\">답변</span>"
   ]
  },
  {
   "cell_type": "markdown",
   "metadata": {},
   "source": [
    "들여쓰기는 코드의 가독성을 높이고 구조를 명확하게 표현하는데 중요한 역할을 합니다. \n",
    "\n",
    "기능 : \n",
    "코드의 계층 구조 표현(들여쓰기는 코드의 계층을 시각적으로 표현합니다.)\n",
    "가독성 향상(들여쓰기는 코드를 읽기 쉽게 만들어줍니다.)\n",
    "일관성 유지(들여쓰기를 일관되게 적용하면 코드의 품질을 높이고, 다른 개발자들이 코드를 이해하고 수정하는데 도움이 됩니다.)\n",
    "\n",
    "장점 : \n",
    "유지보수성 향상, 재사용성 향상, 품질향상, 효율성 향상"
   ]
  },
  {
   "cell_type": "markdown",
   "metadata": {},
   "source": [
    "----"
   ]
  },
  {
   "cell_type": "markdown",
   "metadata": {},
   "source": [
    "<span style=\"font-size:80%\">[문제5]<br><br></span>\n",
    "```print( )문의 기능 및 특징에 대해 설명해주세요```"
   ]
  },
  {
   "cell_type": "markdown",
   "metadata": {},
   "source": [
    "<span style=\"color:red\">답변</span>"
   ]
  },
  {
   "cell_type": "code",
   "execution_count": null,
   "metadata": {
    "vscode": {
     "languageId": "plaintext"
    }
   },
   "outputs": [],
   "source": [
    "출력 함수로 사용됩니다. 이 함수는 괄호 안에 지정된 값을 화면에 출력하는 기능을 가지고 있습니다.\n",
    "특징\n",
    "다양한 출력 형식 지원,줄 바꿈 자동 처리,출력 대상 지정 등이 있음"
   ]
  }
 ],
 "metadata": {
  "language_info": {
   "name": "python"
  }
 },
 "nbformat": 4,
 "nbformat_minor": 2
}
