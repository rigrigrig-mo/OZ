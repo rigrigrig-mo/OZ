{
 "cells": [
  {
   "cell_type": "markdown",
   "metadata": {},
   "source": [
    "<span style=\"font-size:100%\">\n",
    "\n",
    "수업은 모두 열심히 들으셨나요?\n",
    "\n",
    "간혹 강의에서 언급되지 않은 내용이 문제로 나올 수 있습니다.<br>\n",
    "그럴땐 강의 내용 외 문제는 구글링을 통해 해결해주세요<br></span>\n",
    "<span style=\"font-size:80%\">\n",
    "(구글링 또한 개발자가 갖쳐야할 역량 중에 하나랍니다 😊)\n",
    "</span>\n",
    "\n",
    "---"
   ]
  },
  {
   "cell_type": "markdown",
   "metadata": {},
   "source": [
    "<span style=\"font-size:80%\">[문제1]<br><br></span>\n",
    "```인터프리트 방식에 대해 설명하고 2개 이상의 장점을 설명해주세요```"
   ]
  },
  {
   "cell_type": "markdown",
   "metadata": {},
   "source": [
    "<span style=\"color:red\">답변</span>"
   ]
  },
  {
   "cell_type": "markdown",
   "metadata": {},
   "source": [
    "인터프리트 방식이란 작성된 코드를 한 줄씩 읽어 즉시 실행하는 프로그램 또는 환경을 말합니다."
   ]
  },
  {
   "cell_type": "markdown",
   "metadata": {},
   "source": [
    "장점으로는 1. 빠른 개발 및 수정가능(코드를 한 줄씩 읽어 실행하기 때문에 개발이 빠르고 수정이 용이합니다.)\n",
    "        2. 플랫폼 독립성(인터프리터는 다양한 플랫폼에서 실행될 수 있습니다. 이는 개발자들이 한 번만 코드를 작성하면 다양한 환경에서 실행할 수 있다는 것을 의미합니다.)\n",
    "        3. 디버깅 용이성(코드를 실행하면서 발생하는 오류를 즉시 확인하고 수정할 수 있습니다.이는 보다 빠르고 정확하게 문제를 해결할 수있게 해줍니다.)\n"
   ]
  },
  {
   "cell_type": "markdown",
   "metadata": {},
   "source": [
    "---"
   ]
  },
  {
   "cell_type": "markdown",
   "metadata": {},
   "source": [
    "<span style=\"font-size:80%\">[문제2]<br><br></span>\n",
    "```동적 타입 방식의 장점과 단점을 간략히 설명해주세요```"
   ]
  },
  {
   "cell_type": "markdown",
   "metadata": {},
   "source": [
    "<span style=\"color:red\">답변</span>"
   ]
  },
  {
   "cell_type": "markdown",
   "metadata": {},
   "source": [
    "동적 타입 방식(Dynamic typing)은 변수에 저장되는 값의 타입이 실행되는 시간에 결정되는 프로그래밍 언어의 특징\n",
    "    \n",
    "    장점 : 1. 유연성(변수의 타입을 미리 선언하지않고, 실행 시간에 값을 할당할 때 타입을 결정할 수 있습니다. 이는 코드를 더 유연하게 작성할 수 있게 해줍니다.)\n",
    "          2. 빠른 개발 속도(타입 선언이 필요 없기 때문에 코드 작성이 빠르고 간편합니다. 이는 더 빠르게 프로그램을 개발할 수 있게 해줍니다.)\n",
    "          3. 타입 변환 용이(변수의 타입을 쉽게 변환할 수 있습니다. 코드를 더 효율적으로 작성할 수 있게 해줍니다.)\n",
    "          4. 메모리 효율성(실행 시간에 타입을 결정하기 때문에, 정적 타입 언어보다 메모리를 덜 사용합니다. 이는 프로그램의 실행 속도를 향상시키는 데 도움이 됩니다.)\n",
    "    \n",
    "    단점 : 1. 타입 안정성 저하(실행 시간에 타입을 결정하기 떄문에, 정적 타입 언어보다 타입 안정성이 떨어집니다. 이는 프로그램 실행중에 타입 관련 오류가 발생 할 가능성이 높다는것입니다.)\n",
    "          2. 디버깅 어려움(타입관련 오류가 발생하면 디버깅이 어려울 수 있습니다. 이는 문제를 파악하고 수정하는 데 시간이 더 많이 걸릴 수 있다는것을 의미합니다.)\n",
    "          3. 성능 저하(실행 시간에 타입을 결정하기 떄문에 정적 타입 언어보다 실행 속도가 느릴 수 있습니다.)\n",
    "          4. 유지보수의 어려움(타입 정보가 부족하기 떄문에 다른 개발자가 코드를 이해하고 수정하기 어려울수있습니다.)"
   ]
  },
  {
   "cell_type": "markdown",
   "metadata": {},
   "source": [
    "---"
   ]
  },
  {
   "cell_type": "markdown",
   "metadata": {},
   "source": [
    "<span style=\"font-size:80%\">[문제3]<br><br></span>\n",
    "```Python으로 정적타입 방식의 코드를 작성할 수 있는 방법을 구글링을 통해 검색 후 설명해주세요```"
   ]
  },
  {
   "cell_type": "markdown",
   "metadata": {},
   "source": [
    "<span style=\"color:red\">답변</span>"
   ]
  },
  {
   "cell_type": "markdown",
   "metadata": {},
   "source": [
    "python은 기본적으로 동적 타입 언어이지만, 정적 타입 언어의 특징을 일부 구현 가능"
   ]
  },
  {
   "cell_type": "code",
   "execution_count": 1,
   "metadata": {},
   "outputs": [
    {
     "name": "stdout",
     "output_type": "stream",
     "text": [
      "30\n"
     ]
    }
   ],
   "source": [
    "#Type Hints : Python 3.5부터 도입된 기능으로, 코드에 힌트를 추가하여 컴파일러나 인터프리터가 변수나 함수의 타입을 추론할 수 있게 도와줍니다.\n",
    "\n",
    "def add(a: int, b: int) -> int:\n",
    "    return a + b\n",
    "\n",
    "result = add(10,20)\n",
    "print(result)\n",
    "\n",
    "#add를 호출 할때 a와 b는 정수 타입이어야하며, 반환 값도 정수 타입이라는것을 알게 해줌"
   ]
  },
  {
   "cell_type": "markdown",
   "metadata": {},
   "source": [
    "# Mypy : Python의 정적 타입 검사 도구로, 코드에 타입 힌트를 추가하면 Mypy가 이를 검사하여 타입관련 오류를 찾아줍니다.\n",
    "\n",
    "pip install mypy\n",
    "mypy example.py\n",
    "\n"
   ]
  },
  {
   "cell_type": "markdown",
   "metadata": {},
   "source": [
    "---"
   ]
  },
  {
   "cell_type": "markdown",
   "metadata": {},
   "source": [
    "<span style=\"font-size:80%\">[문제4]<br><br></span>\n",
    "```프로세스와 스레드의 차이점을 설명해주세요```"
   ]
  },
  {
   "cell_type": "markdown",
   "metadata": {},
   "source": [
    "<span style=\"color:red\">답변</span>"
   ]
  },
  {
   "cell_type": "markdown",
   "metadata": {},
   "source": [
    "프로세스 : \n",
    "운영체제로부터 시스템 자원을 할당받는 작업의 단위, 독립적인 메모리 공간을 가지며, 하나의 프로세스 내에서 여러 스레드가 동시에 실행될 수 있습니다.\n",
    "프로세스는 생성될 때마다 PCB(Process Control Block)라는 정보 구조체가 생성됩니다. PCB에는 프로세스의 상태, 프로그램 카운터, CPU 레지스터, 메모리 관리 정보 등이 저장됩니다.\n",
    "프로세스간에는 자원을 공유할 수 없으며, 통신을 위해서는 IPC를 사용해야 합니다.\n",
    "\n",
    "스레스 :\n",
    "스레드는 프로세스 내에서 실행되는 실행 흐름의 단위입니다. 프로세스는 자원을 공유하며, 하나의 스레드는 하나의 CPU코어에서 실행됩니다.\n",
    "스레드는 프로세스의 주소 공간을 공유하기 떄문에, 스레드 간에는 데이터를 쉽게 공유합니다.\n",
    "스레드 간에는 동기화 문제가 발생할 수 있습니다. 이는 스레드가 동시에 실행될 떄, 서로 다른 자원을 접근하거나 서로 다른 작업을 수행할 수 있기 때문입니다.\n",
    "하나의 프로세스가 종료되면 그 안에 있는 모든 스레드도 함께 종료됩니다.\n",
    "\n",
    "프로세스는 실행 중인 프로그램의 독립적인 단위이며, 스레드는 프로세스 내에서 실행되는 실행 흐름의 단위입니다.프로세스는 시스템 자원을 할당받고 독립적인 메모리 공간을 가지는 반면, 스레드는 프로세스의 자원을 공유하며 하나의 CPU 코어에서 실행됩니다."
   ]
  },
  {
   "cell_type": "markdown",
   "metadata": {},
   "source": [
    "---"
   ]
  },
  {
   "cell_type": "markdown",
   "metadata": {},
   "source": [
    "<span style=\"font-size:80%\">[문제5]<br><br></span>\n",
    "```Python 2버전대와 3버전대의 차이를 성명해주세요```"
   ]
  },
  {
   "cell_type": "markdown",
   "metadata": {},
   "source": [
    "<span style=\"color:red\">답변</span>"
   ]
  },
  {
   "cell_type": "markdown",
   "metadata": {},
   "source": [
    "1.문자열 인코딩 : 3에서는 문자열이 유니코드로 저장되며, 기본 인코딩은 UTF - 8입니다. 2에서는 문자열이 ASCII로 저장되며 유니코드를 사용하기 위해서는 'u'를 붙여야합니다.\n",
    "2.함수와 모듈 : 일부 함수와 모듈의 이름이 변경되거나 삭제되었습니다.\n",
    "3.문법 변경 : print 함수와 문법이 변경되었습니다. 2에서는 print\"\"와 같이 사용되었지만,3에서는 pritn()와 같이 괄호를 사용해야합니다.\n",
    "4.표준 라이브러리 변경 : 일부 표준 라이브러리 기능이 추가되거나 변경되었습니다.\n",
    "5.지원종료 : 2는 20년1월1일에 공시 지원이 종료되었으며, 더이상 추가 패치를 하지않습니다."
   ]
  },
  {
   "cell_type": "markdown",
   "metadata": {},
   "source": [
    "---"
   ]
  },
  {
   "cell_type": "markdown",
   "metadata": {},
   "source": [
    "<span style=\"font-size:80%\">[문제6]<br><br></span>\n",
    "```Python에서 메모리 관리는 어떻게 이루어지는지 설명해주세요```"
   ]
  },
  {
   "cell_type": "markdown",
   "metadata": {},
   "source": [
    "<span style=\"color:red\">답변</span>"
   ]
  },
  {
   "cell_type": "markdown",
   "metadata": {},
   "source": [
    "Python에서 메모리 관리는 주로 Python 인터프리터와 운영체제(OS)에 의해 이루어집니다. Python 인터프리터는 메모리 할당 및 해제를 담당하며, 운영체제는 메모리 공간을 관리합니다."
   ]
  }
 ],
 "metadata": {
  "kernelspec": {
   "display_name": "Python 3",
   "language": "python",
   "name": "python3"
  },
  "language_info": {
   "codemirror_mode": {
    "name": "ipython",
    "version": 3
   },
   "file_extension": ".py",
   "mimetype": "text/x-python",
   "name": "python",
   "nbconvert_exporter": "python",
   "pygments_lexer": "ipython3",
   "version": "3.12.4"
  }
 },
 "nbformat": 4,
 "nbformat_minor": 2
}
